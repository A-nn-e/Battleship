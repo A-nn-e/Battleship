{
  "nbformat": 4,
  "nbformat_minor": 0,
  "metadata": {
    "colab": {
      "name": "Untitled0.ipynb",
      "provenance": [],
      "collapsed_sections": []
    },
    "kernelspec": {
      "name": "python3",
      "display_name": "Python 3"
    },
    "language_info": {
      "name": "python"
    }
  },
  "cells": [
    {
      "cell_type": "markdown",
      "source": [
        "# New section"
      ],
      "metadata": {
        "id": "28c7bHleL-Dc"
      }
    },
    {
      "cell_type": "code",
      "source": [
        "!wget \"https://drive.google.com/uc?id=1MWwV-NGCyakO8pMY9sg5mnOvfprgkSQP&export=download\" -O backtracking_pruning.py\n",
        "!wget \"https://drive.google.com/uc?id=1IBduxiIqJ81ckaFXelXLYKYiJFvosXBQ&export=download\" -O puzzle.py"
      ],
      "metadata": {
        "colab": {
          "base_uri": "https://localhost:8080/"
        },
        "id": "YGk63Ahn7c4R",
        "outputId": "0d8f024d-69de-4a3b-ff1a-07cd24033536"
      },
      "execution_count": 37,
      "outputs": [
        {
          "output_type": "stream",
          "name": "stdout",
          "text": [
            "--2022-05-03 12:40:53--  https://drive.google.com/uc?id=1MWwV-NGCyakO8pMY9sg5mnOvfprgkSQP&export=download\n",
            "Resolving drive.google.com (drive.google.com)... 173.194.216.138, 173.194.216.113, 173.194.216.101, ...\n",
            "Connecting to drive.google.com (drive.google.com)|173.194.216.138|:443... connected.\n",
            "HTTP request sent, awaiting response... 200 OK\n",
            "Length: unspecified [text/html]\n",
            "Saving to: ‘backtracking_pruning.py’\n",
            "\n",
            "backtracking_prunin     [ <=>                ]   2.18K  --.-KB/s    in 0s      \n",
            "\n",
            "2022-05-03 12:40:53 (14.8 MB/s) - ‘backtracking_pruning.py’ saved [2228]\n",
            "\n",
            "--2022-05-03 12:40:54--  https://drive.google.com/uc?id=1IBduxiIqJ81ckaFXelXLYKYiJFvosXBQ&export=download\n",
            "Resolving drive.google.com (drive.google.com)... 173.194.217.100, 173.194.217.101, 173.194.217.139, ...\n",
            "Connecting to drive.google.com (drive.google.com)|173.194.217.100|:443... connected.\n",
            "HTTP request sent, awaiting response... 200 OK\n",
            "Length: unspecified [text/html]\n",
            "Saving to: ‘puzzle.py’\n",
            "\n",
            "puzzle.py               [ <=>                ]   2.16K  --.-KB/s    in 0s      \n",
            "\n",
            "2022-05-03 12:40:54 (28.8 MB/s) - ‘puzzle.py’ saved [2213]\n",
            "\n"
          ]
        }
      ]
    },
    {
      "cell_type": "code",
      "execution_count": 38,
      "metadata": {
        "id": "9q4nlOGucxiq",
        "outputId": "f396c0e8-d182-4d7e-b1c9-8c1e87e10485",
        "colab": {
          "base_uri": "https://localhost:8080/"
        }
      },
      "outputs": [
        {
          "output_type": "stream",
          "name": "stdout",
          "text": [
            "  2 0 0 2 2 2 1 2 \n",
            "3 o - - - o - - o \n",
            "1 - - - - - - - o \n",
            "3 - - - o o o - - \n",
            "1 o - - - - - - - \n",
            "0 - - - - - - - - \n",
            "3 - - - o - o o - \n",
            "0 - - - - - - - - \n",
            "0 - - - - - - - - \n",
            "n: 8 m: 8\n",
            "battleships: 0\n",
            "cruisers: 1\n",
            "destroyers: 2\n",
            "submarines: 4\n",
            "\n",
            "  2 0 0 2 2 2 1 2 \n",
            "3 - - - o o o - - \n",
            "1 - - - - - - - o \n",
            "3 o - - o o - - - \n",
            "1 - - - - - - - o \n",
            "0 - - - - - - - - \n",
            "3 o - - - - o o - \n",
            "0 - - - - - - - - \n",
            "0 - - - - - - - - \n",
            "n: 8 m: 8\n",
            "battleships: 0\n",
            "cruisers: 1\n",
            "destroyers: 2\n",
            "submarines: 4\n",
            "\n"
          ]
        }
      ],
      "source": [
        "import puzzle\n",
        "import backtracking_pruning\n",
        "\n",
        "x = puzzle.Puzzle(8,8,0,1,2,4,0)\n",
        "x.print_solution()\n",
        "backtracking_pruning.BacktrackingPruning(x)    \n",
        "x.print_alg_solution()\n",
        "   \n",
        "    "
      ]
    }
  ]
}
