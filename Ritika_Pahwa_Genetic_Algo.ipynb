{
  "cells": [
    {
      "cell_type": "code",
      "execution_count": 3653,
      "metadata": {
        "id": "8sDSFrvFeyT_"
      },
      "outputs": [],
      "source": [
        "import time\n",
        "import numpy as np\n",
        "import random\n",
        "\n",
        "start_time = time.time()\n",
        "\n",
        "dim = 6\n",
        "\n",
        "generation_limit = 5000\n",
        "population_size = 5000\n",
        "fitness_limit = 0.1"
      ]
    },
    {
      "cell_type": "code",
      "execution_count": 3654,
      "metadata": {
        "id": "nWWbhhbnDXet"
      },
      "outputs": [],
      "source": [
        "#Number of ship segments permitted:\n",
        "row_constraints = [3,1,2,1,2,1]\n",
        "col_constraints = [1,0,2,2,3,2]"
      ]
    },
    {
      "cell_type": "code",
      "source": [
        "def new_board():\n",
        "  board = np.zeros((dim, dim), dtype=int)\n",
        "  for i in range(dim):\n",
        "    count = 0\n",
        "    randIdx = np.random.randint(dim)\n",
        "    for j in range(randIdx,dim):\n",
        "      if(count == row_constraints[i]):\n",
        "        break\n",
        "      count += 1\n",
        "      board[i][j] = 1\n",
        "      j += 1\n",
        "    count = 0\n",
        "    i += 1\n",
        "  return board\n"
      ],
      "metadata": {
        "id": "fgPvEFq0YaFF"
      },
      "execution_count": 3655,
      "outputs": []
    },
    {
      "cell_type": "code",
      "source": [
        "def new_board2():\n",
        "  board = np.zeros((dim, dim), dtype=int)\n",
        "  for j in range(dim):\n",
        "    count = 0\n",
        "    randIdx = np.random.randint(dim)\n",
        "    for i in range(randIdx,dim):\n",
        "      if(count == col_constraints[j]):\n",
        "        break\n",
        "      count += 1\n",
        "      board[i][j] = 1\n",
        "      i += 1\n",
        "    count = 0\n",
        "    j += 1\n",
        "  return board"
      ],
      "metadata": {
        "id": "uPAT5dZmzqWG"
      },
      "execution_count": 3656,
      "outputs": []
    },
    {
      "cell_type": "code",
      "execution_count": 3657,
      "metadata": {
        "id": "h8et4l6G7xpt"
      },
      "outputs": [],
      "source": [
        "# Convert board into genetic code\n",
        "def geneticCode(genome):\n",
        "  # Genetic code: Convert 2D array of integers to 1D array of strings\n",
        "    geneticSoln = ''.join(str(x) for x in genome.flatten())\n",
        "    return geneticSoln"
      ]
    },
    {
      "cell_type": "code",
      "execution_count": 3658,
      "metadata": {
        "id": "DcW85UNLsSRx"
      },
      "outputs": [],
      "source": [
        "# Print genetic code as 2D array\n",
        "def genome_to_board(genome):\n",
        "  count = 0\n",
        "  for i in range(dim):\n",
        "    for j in range(dim):\n",
        "      print(str(genome)[count], end = \"    \")\n",
        "      count += 1\n",
        "    print(\" |   \" + str(row_constraints[i]))\n",
        "    print(\"\\n\")\n",
        "  for i in range(8):\n",
        "   print(\"__\", end = \"  \")\n",
        "  print(\"\\n\")\n",
        "  for i in range(dim):\n",
        "    print(col_constraints[i], end = \"    \")\n"
      ]
    },
    {
      "cell_type": "code",
      "execution_count": 3659,
      "metadata": {
        "id": "wPKzb8_niatq"
      },
      "outputs": [],
      "source": [
        "#Fitness function\n",
        "def fitness(genome):\n",
        "  arr = np.zeros((dim, dim), dtype=int)\n",
        "  count = 0\n",
        "  for i in range(0, dim):\n",
        "    for j in range(0, dim):\n",
        "      arr[i][j] = int(genome[count])\n",
        "      count +=1\n",
        "\n",
        "  adjacent = 0\n",
        "  i = 0\n",
        "  j = 0\n",
        "  while i < dim-1:\n",
        "      while(j < dim):\n",
        "          if(arr[i][j] == 1 and arr[i+1][j] == 1):\n",
        "            adjacent += 1\n",
        "          if(j == 0 and arr[i][j]==1 and arr[i+1][j+1]==1):\n",
        "            adjacent += 1\n",
        "          elif(j!=dim-1 and arr[i][j]==1 and arr[i+1][j+1]==1 and arr[i+1][j-1]==1):\n",
        "            adjacent += 2\n",
        "          elif(j!=dim-1 and arr[i][j]==1 and arr[i+1][j+1]==1): \n",
        "             adjacent += 1\n",
        "          elif(j!=dim-1 and arr[i][j]==1 and arr[i+1][j-1]==1): \n",
        "            adjacent += 1 \n",
        "          elif(j == dim-1 and arr[i][j]==1 and arr[i+1][j-1]==1):\n",
        "            adjacent += 1\n",
        "          elif(j!=dim-1 and arr[i][j]==1 and arr[i][j+1]==1):\n",
        "            adjacent += 1\n",
        "          j += 1\n",
        "      j = 0  \n",
        "      i += 1\n",
        "  #Finding number of incorrect rows\n",
        "  sum_row = 0\n",
        "  sum_col = 0\n",
        "  incorrect_rows = 0\n",
        "  incorrect_cols = 0\n",
        "  i = 0\n",
        "  j = 0\n",
        "  while i < dim:\n",
        "    while j < dim:\n",
        "      if(arr[i][j] == 1):\n",
        "        sum_row += 1\n",
        "      j += 1\n",
        "    if(sum_row != row_constraints[i]):\n",
        "      incorrect_rows += 1\n",
        "    sum_row = 0\n",
        "    j = 0\n",
        "    i += 1\n",
        " #Finding number of incorrect columns  \n",
        "  i = 0\n",
        "  j = 0\n",
        "  while j < dim:\n",
        "      while i < dim:\n",
        "        if(arr[i][j] == 1):\n",
        "          sum_col += 1\n",
        "        i += 1\n",
        "      if(sum_col != col_constraints[j]):\n",
        "        incorrect_cols += 1\n",
        "      sum_col = 0\n",
        "      i = 0\n",
        "      j += 1\n",
        "   \n",
        "  if (adjacent+ incorrect_rows + incorrect_cols) == 0:\n",
        "     return float('inf')\n",
        "  return 1/(adjacent + incorrect_rows + incorrect_cols)\n"
      ]
    },
    {
      "cell_type": "code",
      "execution_count": 3660,
      "metadata": {
        "id": "xUWIe3nw9eVo"
      },
      "outputs": [],
      "source": [
        "#List of population\n",
        "def populationFunc():\n",
        "  population = []\n",
        "  for i in range (int(population_size)):\n",
        "    pop = geneticCode(new_board())\n",
        "    if  pop.count('1') == 10 :\n",
        "      population.append(pop)\n",
        "  for i in range (int(population_size/2)):\n",
        "    pop = geneticCode(new_board2())\n",
        "    if  pop.count('1') == 10 :\n",
        "      population.append(pop)\n",
        "    np.random.shuffle(population)\n",
        "  return population"
      ]
    },
    {
      "cell_type": "code",
      "execution_count": 3661,
      "metadata": {
        "id": "tlrT5Yus_5kb"
      },
      "outputs": [],
      "source": [
        "#Selection function\n",
        "import random\n",
        "def selectionFunc(population, fitness):\n",
        "  if len(population)!=0:\n",
        "    return random.choices(\n",
        "      population = population,\n",
        "      weights = [fitness(genome) for genome in population],\n",
        "      k = 2\n",
        "  )"
      ]
    },
    {
      "cell_type": "code",
      "execution_count": 3662,
      "metadata": {
        "id": "3p8O7ap5Avz8"
      },
      "outputs": [],
      "source": [
        "#1-point crossover\n",
        "def crossover(g1, g2):\n",
        "  if(len(g1)!=len(g2)):\n",
        "     return -1\n",
        "  if(len(g1)<2):\n",
        "     return g1, g2\n",
        "  index = random.randint(0, len(g1)-1)\n",
        "  if (g1[0:index]+g2[index:]).count('1') == 10 and (g2[0:index]+g1[index:]).count('1') == 10:\n",
        "    return g1[0:index]+g2[index:], g2[0:index]+g1[index:]\n",
        "  else:\n",
        "    return g1, g2"
      ]
    },
    {
      "cell_type": "code",
      "execution_count": 3663,
      "metadata": {
        "id": "ee39qZAFBlMD"
      },
      "outputs": [],
      "source": [
        "#Mutation\n",
        "def mutation(genome):\n",
        "    index = random.randrange(len(genome)-1)\n",
        "    index2 = random.randrange(len(genome)-1)\n",
        "\n",
        "    if genome[index] == 0 and genome[index+1] == 1:\n",
        "       abs(genome[index] - 1)  \n",
        "       abs(genome[index+1]-1)\n",
        "    elif genome[index] == 1 and genome[index+1] == 0:\n",
        "       abs(genome[index] - 1)  \n",
        "       abs(genome[index+1]-1)\n",
        "\n",
        "    return genome"
      ]
    },
    {
      "cell_type": "code",
      "execution_count": 3664,
      "metadata": {
        "id": "0gUNIzYXC1oL"
      },
      "outputs": [],
      "source": [
        "#Run Evolution\n",
        "def runEvolution():\n",
        "    population = populationFunc()\n",
        "    for i in range(generation_limit):\n",
        "      population = sorted(population, key = lambda genome:fitness(genome),reverse = True)\n",
        "      #if fitness limit reached\n",
        "      if(len(population)!=0):\n",
        "       if(fitness(population[0])>=fitness_limit):\n",
        "          break\n",
        "      #next gen = top 2 (elitism)\n",
        "      if(len(population)>=2):\n",
        "        next_gen = population[0:2]\n",
        "      for j in range(int(len(population)/2)-1):\n",
        "        parents = selectionFunc(population, fitness)\n",
        "        if(parents!=None):\n",
        "          offspring1, offspring2 = crossover(parents[0], parents[1])\n",
        "          offspring1 = mutation(offspring1)\n",
        "          offspring2 = mutation(offspring2)\n",
        "          next_gen += [offspring1, offspring2] \n",
        "          population = next_gen\n",
        "          population = sorted(population, key = lambda genome: fitness(genome),reverse = True)\n",
        "    return population"
      ]
    },
    {
      "cell_type": "code",
      "execution_count": 3665,
      "metadata": {
        "colab": {
          "base_uri": "https://localhost:8080/"
        },
        "id": "SexNaLhlGCJh",
        "outputId": "24f11143-9fa7-465f-a60b-b6b7a19a49eb"
      },
      "outputs": [
        {
          "output_type": "stream",
          "name": "stdout",
          "text": [
            "Battleship Solution\n",
            "\n",
            "0    0    0    1    1    1     |   3\n",
            "\n",
            "\n",
            "1    0    0    0    0    0     |   1\n",
            "\n",
            "\n",
            "0    0    0    1    1    0     |   2\n",
            "\n",
            "\n",
            "0    0    1    0    0    0     |   1\n",
            "\n",
            "\n",
            "0    0    0    0    1    1     |   2\n",
            "\n",
            "\n",
            "0    0    1    0    0    0     |   1\n",
            "\n",
            "\n",
            "__  __  __  __  __  __  __  __  \n",
            "\n",
            "1    0    2    2    3    2    "
          ]
        }
      ],
      "source": [
        "#Run evolution to find the solution\n",
        "a = runEvolution()\n",
        "print(\"Battleship Solution\\n\")\n",
        "genome_to_board(a[0])"
      ]
    },
    {
      "cell_type": "code",
      "source": [
        "end_time = time.time()\n",
        "print(end_time-start_time)"
      ],
      "metadata": {
        "colab": {
          "base_uri": "https://localhost:8080/"
        },
        "id": "cuZNfBQbWZAm",
        "outputId": "3d1570c4-79eb-4448-fb7a-5fb0c0937fe4"
      },
      "execution_count": 3666,
      "outputs": [
        {
          "output_type": "stream",
          "name": "stdout",
          "text": [
            "2.610095500946045\n"
          ]
        }
      ]
    }
  ],
  "metadata": {
    "colab": {
      "collapsed_sections": [],
      "name": "Ritika Pahwa_Genetic Algo.ipynb",
      "provenance": []
    },
    "kernelspec": {
      "display_name": "Python 3",
      "name": "python3"
    },
    "language_info": {
      "name": "python"
    }
  },
  "nbformat": 4,
  "nbformat_minor": 0
}