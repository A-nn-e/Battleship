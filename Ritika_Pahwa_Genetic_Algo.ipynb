{
  "cells": [
    {
      "cell_type": "markdown",
      "source": [
        "\n",
        "# **GENETIC ALGORITHM FOR BATTLESHIP SOLITAIRE**\n",
        "\n",
        "![Battleships-Puzzle.png](data:image/png;base64,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)\n",
        "---\n",
        "\n",
        "A 6×6 Battleship puzzle solved using genetic algorithm.\n",
        "\n",
        "***Board Information:***\n",
        "- N = 6\n",
        "- Number of ships = 4\n",
        "- Number and Types of ships: 1 Cruiser, 2 Destroyers, 3 Submarines\n",
        "- Number of ship segments = 10\n",
        "- Row-wise ship segment distribution: 3,1,2,1,2,1\n",
        "- Column-wise ship segment distribution: 1,0,2,2,3,2\n",
        "- 0s represent water and 1s represent ships\n",
        "\n",
        "\n"
      ],
      "metadata": {
        "id": "K6ZGw3ML4whz"
      }
    },
    {
      "cell_type": "code",
      "execution_count": 421,
      "metadata": {
        "id": "8sDSFrvFeyT_"
      },
      "outputs": [],
      "source": [
        "import time\n",
        "import numpy as np\n",
        "import random\n",
        "\n",
        "start_time = time.time()\n",
        "\n",
        "dim = 6\n",
        "\n",
        "generation_limit = 15000\n",
        "population_size = 15000\n",
        "fitness_limit = 0.1\n",
        "\n",
        "#Number of ship segments permitted:\n",
        "row_constraints = [3,1,2,1,2,1]\n",
        "col_constraints = [1,0,2,2,3,2]"
      ]
    },
    {
      "cell_type": "markdown",
      "source": [
        "# **Initial Population**\n",
        "---\n",
        "The initial population consists of two types of boards:\n",
        "- rboard: A random board satisfying the constraints on the number of ships permitted in each row.\n",
        "- cboard: A random board satisfying the constraints on the number of ships permitted in each column.\n",
        " \n",
        "Each board in the initial population is converted into genetic code for further processing."
      ],
      "metadata": {
        "id": "SOxtM8a6-on5"
      }
    },
    {
      "cell_type": "code",
      "source": [
        "def rboard():\n",
        "  board = np.zeros((dim, dim), dtype=int)\n",
        "  for i in range(dim):\n",
        "    count = 0\n",
        "    randIdx = np.random.randint(dim)\n",
        "    for j in range(randIdx,dim):\n",
        "      if(count == row_constraints[i]):\n",
        "        break\n",
        "      count += 1\n",
        "      board[i][j] = 1\n",
        "      j += 1\n",
        "    count = 0\n",
        "    i += 1\n",
        "  return board\n"
      ],
      "metadata": {
        "id": "fgPvEFq0YaFF"
      },
      "execution_count": 422,
      "outputs": []
    },
    {
      "cell_type": "code",
      "source": [
        "def cboard():\n",
        "  board = np.zeros((dim, dim), dtype=int)\n",
        "  for j in range(dim):\n",
        "    count = 0\n",
        "    randIdx = np.random.randint(dim)\n",
        "    for i in range(randIdx,dim):\n",
        "      if(count == col_constraints[j]):\n",
        "        break\n",
        "      count += 1\n",
        "      board[i][j] = 1\n",
        "      i += 1\n",
        "    count = 0\n",
        "    j += 1\n",
        "  return board"
      ],
      "metadata": {
        "id": "uPAT5dZmzqWG"
      },
      "execution_count": 423,
      "outputs": []
    },
    {
      "cell_type": "code",
      "execution_count": 424,
      "metadata": {
        "id": "h8et4l6G7xpt"
      },
      "outputs": [],
      "source": [
        "# Convert board into genetic code\n",
        "def geneticCode(genome):\n",
        "  # Genetic code: Convert 2D array of integers to 1D array of strings\n",
        "    geneticSoln = ''.join(str(x) for x in genome.flatten())\n",
        "    return geneticSoln"
      ]
    },
    {
      "cell_type": "code",
      "execution_count": 425,
      "metadata": {
        "id": "DcW85UNLsSRx"
      },
      "outputs": [],
      "source": [
        "# Print genetic code as 2D array\n",
        "def genome_to_board(genome):\n",
        "  count = 0\n",
        "  for i in range(dim):\n",
        "    for j in range(dim):\n",
        "      print(str(genome)[count], end = \"    \")\n",
        "      count += 1\n",
        "    print(\" |   \" + str(row_constraints[i]))\n",
        "    print(\"\\n\")\n",
        "  for i in range(8):\n",
        "   print(\"__\", end = \"  \")\n",
        "  print(\"\\n\")\n",
        "  for i in range(dim):\n",
        "    print(col_constraints[i], end = \"    \")\n"
      ]
    },
    {
      "cell_type": "code",
      "execution_count": 426,
      "metadata": {
        "id": "xUWIe3nw9eVo"
      },
      "outputs": [],
      "source": [
        "#List of population\n",
        "def populationFunc():\n",
        "  population = []\n",
        "  for i in range (int(population_size)):\n",
        "    pop = geneticCode(rboard())\n",
        "    if  pop.count('1') == 10 :\n",
        "      population.append(pop)\n",
        "  for i in range (int(population_size/2)):\n",
        "    pop = geneticCode(cboard())\n",
        "    if  pop.count('1') == 10 :\n",
        "      population.append(pop)\n",
        "    np.random.shuffle(population)\n",
        "  return population"
      ]
    },
    {
      "cell_type": "markdown",
      "source": [
        "# **Fitness Function**\n",
        "---\n",
        "Considering the rules of Battleship Solitaire, the constraints that can be used to calculate fitness scores are:\n",
        "- Row and Column Constraints\n",
        "- No Adjacency Constraint"
      ],
      "metadata": {
        "id": "HEJbeB4J_1yY"
      }
    },
    {
      "cell_type": "code",
      "execution_count": 427,
      "metadata": {
        "id": "wPKzb8_niatq"
      },
      "outputs": [],
      "source": [
        "#Fitness function\n",
        "def fitness(genome):\n",
        "  arr = np.zeros((dim, dim), dtype=int)\n",
        "  count = 0\n",
        "  for i in range(0, dim):\n",
        "    for j in range(0, dim):\n",
        "      arr[i][j] = int(genome[count])\n",
        "      count +=1\n",
        "\n",
        "  adjacent = 0\n",
        "  i = 0\n",
        "  j = 0\n",
        "  while i < dim-1:\n",
        "      while(j < dim):\n",
        "          if(arr[i][j] == 1 and arr[i+1][j] == 1):\n",
        "            adjacent += 1\n",
        "          if(j == 0 and arr[i][j]==1 and arr[i+1][j+1]==1):\n",
        "            adjacent += 1\n",
        "          elif(j!=dim-1 and arr[i][j]==1 and arr[i+1][j+1]==1 and arr[i+1][j-1]==1):\n",
        "            adjacent += 2\n",
        "          elif(j!=dim-1 and arr[i][j]==1 and arr[i+1][j+1]==1): \n",
        "             adjacent += 1\n",
        "          elif(j!=dim-1 and arr[i][j]==1 and arr[i+1][j-1]==1): \n",
        "            adjacent += 1 \n",
        "          elif(j == dim-1 and arr[i][j]==1 and arr[i+1][j-1]==1):\n",
        "            adjacent += 1\n",
        "          elif(j!=dim-1 and arr[i][j]==1 and arr[i][j+1]==1):\n",
        "            adjacent += 1\n",
        "          j += 1\n",
        "      j = 0  \n",
        "      i += 1\n",
        "  #Finding number of incorrect rows\n",
        "  sum_row = 0\n",
        "  sum_col = 0\n",
        "  incorrect_rows = 0\n",
        "  incorrect_cols = 0\n",
        "  i = 0\n",
        "  j = 0\n",
        "  while i < dim:\n",
        "    while j < dim:\n",
        "      if(arr[i][j] == 1):\n",
        "        sum_row += 1\n",
        "      j += 1\n",
        "    if(sum_row != row_constraints[i]):\n",
        "      incorrect_rows += 1\n",
        "    sum_row = 0\n",
        "    j = 0\n",
        "    i += 1\n",
        " #Finding number of incorrect columns  \n",
        "  i = 0\n",
        "  j = 0\n",
        "  while j < dim:\n",
        "      while i < dim:\n",
        "        if(arr[i][j] == 1):\n",
        "          sum_col += 1\n",
        "        i += 1\n",
        "      if(sum_col != col_constraints[j]):\n",
        "        incorrect_cols += 1\n",
        "      sum_col = 0\n",
        "      i = 0\n",
        "      j += 1\n",
        "   \n",
        "  if (adjacent+ incorrect_rows + incorrect_cols) == 0:\n",
        "     return float('inf')\n",
        "  return 1/(adjacent + incorrect_rows + incorrect_cols)\n"
      ]
    },
    {
      "cell_type": "markdown",
      "source": [
        "# **Selection Function**\n",
        "---\n",
        "A selection function is used to determine two random parents for generating the next generation."
      ],
      "metadata": {
        "id": "XOeUT0_QAntH"
      }
    },
    {
      "cell_type": "code",
      "execution_count": 428,
      "metadata": {
        "id": "tlrT5Yus_5kb"
      },
      "outputs": [],
      "source": [
        "#Selection function\n",
        "import random\n",
        "def selectionFunc(population, fitness):\n",
        "  if len(population)!=0:\n",
        "    return random.choices(\n",
        "      population = population,\n",
        "      weights = [fitness(genome) for genome in population],\n",
        "      k = 2\n",
        "  )"
      ]
    },
    {
      "cell_type": "markdown",
      "source": [
        "# **Crossover Function**\n",
        "---\n",
        "1-point crossover can be performed over the parents to generate offsprings. "
      ],
      "metadata": {
        "id": "ymXUeCuSAyZv"
      }
    },
    {
      "cell_type": "code",
      "execution_count": 429,
      "metadata": {
        "id": "3p8O7ap5Avz8"
      },
      "outputs": [],
      "source": [
        "#1-point crossover\n",
        "def crossover(g1, g2):\n",
        "  if(len(g1)!=len(g2)):\n",
        "     return -1\n",
        "  if(len(g1)<2):\n",
        "     return g1, g2\n",
        "  index = random.randint(0, len(g1)-1)\n",
        "  if (g1[0:index]+g2[index:]).count('1') == 10 and (g2[0:index]+g1[index:]).count('1') == 10:\n",
        "    return g1[0:index]+g2[index:], g2[0:index]+g1[index:]\n",
        "  else:\n",
        "    return g1, g2"
      ]
    },
    {
      "cell_type": "markdown",
      "source": [
        "# **Mutation**\n",
        "---\n",
        "In mutation, a random bit is toggled to produce a new variant. However, toggling a single bit would change the number of ship segments on the board. So, the mutation function is modified such that two random bits are toggled. "
      ],
      "metadata": {
        "id": "OGbdkHjxBqd7"
      }
    },
    {
      "cell_type": "code",
      "execution_count": 430,
      "metadata": {
        "id": "ee39qZAFBlMD"
      },
      "outputs": [],
      "source": [
        "#Mutation\n",
        "def mutation(genome):\n",
        "    index = random.randrange(len(genome)-1)\n",
        "    index2 = random.randrange(len(genome)-1)\n",
        "\n",
        "    if genome[index] == 0 and genome[index+1] == 1:\n",
        "       abs(genome[index] - 1)  \n",
        "       abs(genome[index+1]-1)\n",
        "    elif genome[index] == 1 and genome[index+1] == 0:\n",
        "       abs(genome[index] - 1)  \n",
        "       abs(genome[index+1]-1)\n",
        "\n",
        "    return genome"
      ]
    },
    {
      "cell_type": "markdown",
      "source": [
        "# **Evolution**\n",
        "---\n",
        "The evolution over the generations is carried out to generate the final solution."
      ],
      "metadata": {
        "id": "CtNXHvVhCB3x"
      }
    },
    {
      "cell_type": "code",
      "execution_count": 431,
      "metadata": {
        "id": "0gUNIzYXC1oL"
      },
      "outputs": [],
      "source": [
        "#Run Evolution\n",
        "def runEvolution():\n",
        "    population = populationFunc()\n",
        "    for i in range(generation_limit):\n",
        "      population = sorted(population, key = lambda genome:fitness(genome),reverse = True)\n",
        "      #if fitness limit reached\n",
        "      if(len(population)!=0):\n",
        "       if(fitness(population[0])>=fitness_limit):\n",
        "          break\n",
        "      #next gen = top 2 (elitism)\n",
        "      if(len(population)>=2):\n",
        "        next_gen = population[0:2]\n",
        "      for j in range(int(len(population)/2)-1):\n",
        "        parents = selectionFunc(population, fitness)\n",
        "        if(parents!=None):\n",
        "          offspring1, offspring2 = crossover(parents[0], parents[1])\n",
        "          offspring1 = mutation(offspring1)\n",
        "          offspring2 = mutation(offspring2)\n",
        "          next_gen += [offspring1, offspring2] \n",
        "          population = next_gen\n",
        "          population = sorted(population, key = lambda genome: fitness(genome),reverse = True)\n",
        "    return population"
      ]
    },
    {
      "cell_type": "code",
      "execution_count": 432,
      "metadata": {
        "colab": {
          "base_uri": "https://localhost:8080/"
        },
        "id": "SexNaLhlGCJh",
        "outputId": "36747d00-9279-4174-e9df-f9de761c25e7"
      },
      "outputs": [
        {
          "output_type": "stream",
          "name": "stdout",
          "text": [
            "Battleship Puzzle Solution\n",
            "\n",
            "0    0    0    1    1    1     |   3\n",
            "\n",
            "\n",
            "1    0    0    0    0    0     |   1\n",
            "\n",
            "\n",
            "0    0    0    1    1    0     |   2\n",
            "\n",
            "\n",
            "0    0    1    0    0    0     |   1\n",
            "\n",
            "\n",
            "0    0    0    0    1    1     |   2\n",
            "\n",
            "\n",
            "0    0    1    0    0    0     |   1\n",
            "\n",
            "\n",
            "__  __  __  __  __  __  __  __  \n",
            "\n",
            "1    0    2    2    3    2    "
          ]
        }
      ],
      "source": [
        "#Run evolution to find the solution\n",
        "a = runEvolution()\n",
        "print(\"Battleship Puzzle Solution\\n\")\n",
        "genome_to_board(a[0])"
      ]
    },
    {
      "cell_type": "code",
      "source": [
        "end_time = time.time()\n",
        "print(end_time-start_time)"
      ],
      "metadata": {
        "colab": {
          "base_uri": "https://localhost:8080/"
        },
        "id": "cuZNfBQbWZAm",
        "outputId": "e631a95b-8723-41c4-9940-6a1408ea0df1"
      },
      "execution_count": 433,
      "outputs": [
        {
          "output_type": "stream",
          "name": "stdout",
          "text": [
            "6.76453709602356\n"
          ]
        }
      ]
    },
    {
      "cell_type": "markdown",
      "source": [
        "# **RESULTS AND CONCLUSION**\n",
        "---\n",
        "![Time vs Population Size.png](data:image/png;base64,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)\n",
        "![Accuracy vs. Population Size.png](data:image/png;base64,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)\n",
        "---\n",
        "After running the algorithm with population size and generation limit in the range 10-15000, a significant increase in the accuracy was observed. However, an increase in these two paramenters also increased the average run time of the program from 0.921 seconds to 6.803 seconds.\n"
      ],
      "metadata": {
        "id": "Mz0oqCKuFKC-"
      }
    }
  ],
  "metadata": {
    "colab": {
      "collapsed_sections": [],
      "name": "Ritika Pahwa_Genetic Algo.ipynb",
      "provenance": []
    },
    "kernelspec": {
      "display_name": "Python 3",
      "name": "python3"
    },
    "language_info": {
      "name": "python"
    }
  },
  "nbformat": 4,
  "nbformat_minor": 0
}